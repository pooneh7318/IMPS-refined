{
 "cells": [
  {
   "cell_type": "code",
   "execution_count": 25,
   "metadata": {},
   "outputs": [
    {
     "name": "stdout",
     "output_type": "stream",
     "text": [
      "dict_keys(['harmonic', 'perceptual', 'spectral', 'signal', 'yin'])\n",
      "dict_keys(['0', 'HarmonicSpectralSlope', 'HarmonicSpectralRolloff', 'HarmonicSpectralDecrease', 'HarmonicSpectralVariation', 'HarmonicSpectralKurtosis', 'HarmonicSpectralSkewness', 'HarmonicSpectralSpread', 'HarmonicSpectralCentroid', 'HarmonicSpectralDeviation', 'HarmonicTristimulus2', 'HarmonicTristimulus1', 'HarmonicTristimulus0', 'HarmonicOddToEvenRatio', 'Noisiness', 'NoiseEnergy', 'HarmonicEnergy', 'Inharmonicity', 'FundamentalFrequency', 'time'])\n",
      "dict_keys(['0', 'MFCC12', 'MFCC11', 'MFCC10', 'MFCC09', 'MFCC08', 'MFCC07', 'MFCC06', 'MFCC05', 'MFCC04', 'MFCC03', 'MFCC02', 'MFCC00', 'PerceptualSpectralSlope', 'PerceptualSpectralDecrease', 'PerceptualSpectralVariation', 'PerceptualSpectralRolloff', 'PerceptualSpectralKurtosis', 'PerceptualSpectralSkewness', 'PerceptualSpectralSpread', 'PerceptualSpectralCentroid', 'PerceptualSpectralDeviation', 'SpectralCrest3', 'SpectralCrest2', 'SpectralCrest1', 'SpectralCrest0', 'SpectralFlatness3', 'SpectralFlatness2', 'SpectralFlatness1', 'SpectralFlatness0', 'Spread', 'Sharpness', 'PerceptualOddToEvenRatio', 'PerceptualTristimulus2', 'PerceptualTristimulus1', 'PerceptualTristimulus0', 'RelativeSpecificLoudness23', 'RelativeSpecificLoudness22', 'RelativeSpecificLoudness21', 'RelativeSpecificLoudness20', 'RelativeSpecificLoudness19', 'RelativeSpecificLoudness18', 'RelativeSpecificLoudness17', 'RelativeSpecificLoudness16', 'RelativeSpecificLoudness15', 'RelativeSpecificLoudness14', 'RelativeSpecificLoudness13', 'RelativeSpecificLoudness12', 'RelativeSpecificLoudness11', 'RelativeSpecificLoudness10', 'RelativeSpecificLoudness09', 'RelativeSpecificLoudness08', 'RelativeSpecificLoudness07', 'RelativeSpecificLoudness06', 'RelativeSpecificLoudness05', 'RelativeSpecificLoudness04', 'RelativeSpecificLoudness03', 'RelativeSpecificLoudness02', 'RelativeSpecificLoudness01', 'RelativeSpecificLoudness00', 'Loudness', 'time'])\n",
      "dict_keys(['0', 'Chroma11', 'Chroma10', 'Chroma09', 'Chroma08', 'Chroma07', 'Chroma06', 'Chroma05', 'Chroma04', 'Chroma03', 'Chroma02', 'Chroma01', 'Chroma00', 'SpectralSlope', 'SpectralDecrease', 'SpectralVariation', 'SpectralRolloff', 'SpectralKurtosis', 'SpectralSkewness', 'SpectralSpread', 'SpectralCentroid', 'time'])\n",
      "dict_keys(['0', 'TotalEnergy', 'SignalZeroCrossingRate', 'time'])\n"
     ]
    }
   ],
   "source": [
    "import json\n",
    "with open(\"/Users/pooneh/Documents/project/machine_improviser_data/gesture-rating-experiment/gestures/5f21b3f7c45eb10a923c38e1.json\", \"r\") as read_file:\n",
    "    data = json.load(read_file)\n",
    "    # arr = data['analysis']['spectral']['time']\n",
    "    # print(arr)\n",
    "    print(data['analysis'].keys())\n",
    "    print(data['analysis']['harmonic'].keys())\n",
    "    print(data['analysis']['perceptual'].keys())\n",
    "    print(data['analysis']['spectral'].keys())\n",
    "    print(data['analysis']['signal'].keys())\n",
    "\n"
   ]
  },
  {
   "cell_type": "code",
   "execution_count": null,
   "metadata": {},
   "outputs": [],
   "source": []
  },
  {
   "cell_type": "code",
   "execution_count": 14,
   "metadata": {},
   "outputs": [],
   "source": [
    "import json\n",
    "with open(\"/Users/pooneh/Documents/project/results-models-normnew-lr0.00005-Adam/inputttt_allin.json\", \"r\") as read_file:\n",
    "    data = json.load(read_file)\n",
    "    data['analysis']['spectral']['time'] = arr[0:40]\n",
    "    with open(\"/Users/pooneh/Documents/project/results-models-normnew-lr0.00005-Adam/inputttt_allin.json\", \"w\") as write_file:\n",
    "        json.dump(data, write_file, indent=2)\n"
   ]
  },
  {
   "cell_type": "code",
   "execution_count": 24,
   "metadata": {},
   "outputs": [
    {
     "name": "stdout",
     "output_type": "stream",
     "text": [
      "684.9160766601562\n",
      "0.167258203029633\n",
      "0.912457346916199\n",
      "0.796784937381744\n",
      "0.233028739690781\n",
      "0.791769862174988\n",
      "0.303792417049408\n",
      "1\n",
      "0.719180583953857\n",
      "0.511628687381744\n",
      "0.584613025188446\n",
      "0.823961496353149\n",
      "0.902271389961243\n",
      "-4.6679412e-07\n",
      "0.041204638779163\n",
      "0\n",
      "355.2978515625\n",
      "22.467084884643555\n",
      "4.128690242767334\n",
      "1358.134033203125\n",
      "684.9160766601562\n",
      "11.632652953267097\n"
     ]
    }
   ],
   "source": [
    "for c in data['analysis']['spectral']:\n",
    "    print(data['analysis']['spectral'][c][0])"
   ]
  },
  {
   "cell_type": "code",
   "execution_count": 21,
   "metadata": {},
   "outputs": [
    {
     "name": "stdout",
     "output_type": "stream",
     "text": [
      "0\n",
      "Chroma11\n",
      "Chroma10\n",
      "Chroma09\n",
      "Chroma08\n",
      "Chroma07\n",
      "Chroma06\n",
      "Chroma05\n",
      "Chroma04\n",
      "Chroma03\n",
      "Chroma02\n",
      "Chroma01\n",
      "Chroma00\n",
      "SpectralSlope\n",
      "SpectralDecrease\n",
      "SpectralVariation\n",
      "SpectralRolloff\n",
      "SpectralKurtosis\n",
      "SpectralSkewness\n",
      "SpectralSpread\n",
      "SpectralCentroid\n",
      "time\n",
      "22\n"
     ]
    }
   ],
   "source": [
    "count = 0\n",
    "for t in data['analysis']['spectral']:\n",
    "    print(t)\n",
    "    count += 1\n",
    "print(count)"
   ]
  },
  {
   "cell_type": "code",
   "execution_count": 23,
   "metadata": {},
   "outputs": [
    {
     "name": "stdout",
     "output_type": "stream",
     "text": [
      "dict_keys(['0', 'Chroma11', 'Chroma10', 'Chroma09', 'Chroma08', 'Chroma07', 'Chroma06', 'Chroma05', 'Chroma04', 'Chroma03', 'Chroma02', 'Chroma01', 'Chroma00', 'SpectralSlope', 'SpectralDecrease', 'SpectralVariation', 'SpectralRolloff', 'SpectralKurtosis', 'SpectralSkewness', 'SpectralSpread', 'SpectralCentroid', 'time'])\n"
     ]
    }
   ],
   "source": [
    "print(data[\"analysis\"][\"spectral\"].keys())"
   ]
  },
  {
   "cell_type": "code",
   "execution_count": 6,
   "metadata": {},
   "outputs": [
    {
     "name": "stdout",
     "output_type": "stream",
     "text": [
      "59965.554455295205\n",
      "-2.619709253311157\n",
      "10971.451045945287\n",
      "11.632652953267097\n"
     ]
    }
   ],
   "source": [
    "path_json = '/Users/pooneh/Documents/project/machine_improviser_data/gesture-rating-experiment/gestures'\n",
    "import os\n",
    "l = []\n",
    "for json_filename in sorted(os.listdir(path_json)):\n",
    "    i = 0\n",
    "    if json_filename.endswith(\".json\"):\n",
    "        with open(os.path.join(path_json, json_filename), 'r') as read_file:\n",
    "            data = json.load(read_file)\n",
    "            for i in data['analysis']['spectral']:\n",
    "                l.append((max(data['analysis']['spectral'][i])))\n",
    "                l.append((min(data['analysis']['spectral'][i])))\n",
    "\n",
    "print(max(l))\n",
    "print(min(l))\n",
    "print(l[42])\n",
    "print(l[43])\n"
   ]
  },
  {
   "cell_type": "code",
   "execution_count": 2,
   "metadata": {},
   "outputs": [
    {
     "name": "stdout",
     "output_type": "stream",
     "text": [
      "10.0\n"
     ]
    }
   ],
   "source": [
    "print(10/(2-1))"
   ]
  },
  {
   "cell_type": "code",
   "execution_count": 10,
   "metadata": {},
   "outputs": [
    {
     "name": "stdout",
     "output_type": "stream",
     "text": [
      "1322\n",
      "87716\n"
     ]
    }
   ],
   "source": [
    "path_json = '/Users/pooneh/Documents/project/machine_improviser_data/gesture-rating-experiment/gestures'\n",
    "import os\n",
    "import json\n",
    "l = 0\n",
    "count = 0\n",
    "for json_filename in sorted(os.listdir(path_json)):\n",
    "    i = 0\n",
    "    if json_filename.endswith(\".json\"):\n",
    "        with open(os.path.join(path_json, json_filename), 'r') as read_file:\n",
    "            data = json.load(read_file)\n",
    "            l += len(data['analysis']['spectral']['Chroma09'])\n",
    "            for i in range(len(data['analysis']['spectral']['Chroma09']) - 1):\n",
    "                if(0.6 <= data['analysis']['spectral']['Chroma09'][i] < 0.7):\n",
    "                    if(0.5 <= data['analysis']['spectral']['Chroma09'][i+1] < 0.6 or 0.6 <= data['analysis']['spectral']['Chroma09'][i+1] < 0.7):\n",
    "                        count += 1\n",
    "            \n",
    "print (count)\n",
    "print (l)"
   ]
  },
  {
   "cell_type": "code",
   "execution_count": null,
   "metadata": {},
   "outputs": [],
   "source": []
  },
  {
   "cell_type": "code",
   "execution_count": 5,
   "metadata": {},
   "outputs": [
    {
     "name": "stdout",
     "output_type": "stream",
     "text": [
      "487\n"
     ]
    }
   ],
   "source": [
    "print(len(data['analysis']['spectral']['0']))"
   ]
  },
  {
   "cell_type": "code",
   "execution_count": 4,
   "metadata": {},
   "outputs": [
    {
     "name": "stdout",
     "output_type": "stream",
     "text": [
      "hello////////////////////\n"
     ]
    }
   ],
   "source": [
    "print(\"hello////////////////////\")"
   ]
  },
  {
   "cell_type": "code",
   "execution_count": 9,
   "metadata": {},
   "outputs": [
    {
     "name": "stdout",
     "output_type": "stream",
     "text": [
      "dict_keys(['_id', 'controller_type', 'session', 'data', 'audio', 'dataexists', 'timeentered', 'date', 'ges_id', 'name', 'capture_type', 'stats', 'analysis'])\n"
     ]
    }
   ],
   "source": [
    "print(data.keys())"
   ]
  },
  {
   "cell_type": "code",
   "execution_count": 43,
   "metadata": {},
   "outputs": [],
   "source": [
    "with open(\"/Users/pooneh/Documents/project/result1.json\", \"w\") as write_file:\n",
    "  json.dump(data, write_file, indent=2)"
   ]
  },
  {
   "cell_type": "code",
   "execution_count": 13,
   "metadata": {},
   "outputs": [],
   "source": [
    "with open(\"/Users/pooneh/Documents/project/result1.json\", \"r\") as json_file:\n",
    "    json_decoded = json.load(json_file)"
   ]
  },
  {
   "cell_type": "code",
   "execution_count": 15,
   "metadata": {},
   "outputs": [],
   "source": [
    "json_decoded[\"analysis\"].pop(\"spectral\", None)\n",
    "with open(\"/Users/pooneh/Documents/project/result1.json\", \"w\") as write_file:\n",
    "  json.dump(json_decoded, write_file, indent=2)"
   ]
  },
  {
   "cell_type": "code",
   "execution_count": 16,
   "metadata": {},
   "outputs": [],
   "source": [
    "with open(\"/Users/pooneh/Documents/project/result1.json\", \"r\") as json_file:\n",
    "    json_decoded = json.load(json_file)"
   ]
  },
  {
   "cell_type": "code",
   "execution_count": 17,
   "metadata": {},
   "outputs": [
    {
     "name": "stdout",
     "output_type": "stream",
     "text": [
      "dict_keys(['harmonic', 'perceptual', 'signal', 'yin'])\n"
     ]
    }
   ],
   "source": [
    "print(json_decoded[\"analysis\"].keys())"
   ]
  },
  {
   "cell_type": "code",
   "execution_count": null,
   "metadata": {},
   "outputs": [],
   "source": [
    "dict = {\"0\":[1,2,3]}\n",
    "json_decoded[\"analysis\"][\"spectral\"] = dict\n",
    "print(json_decoded[\"analysis\"])"
   ]
  },
  {
   "cell_type": "code",
   "execution_count": 38,
   "metadata": {},
   "outputs": [
    {
     "ename": "KeyError",
     "evalue": "0",
     "output_type": "error",
     "traceback": [
      "\u001b[0;31m---------------------------------------------------------------------------\u001b[0m",
      "\u001b[0;31mKeyError\u001b[0m                                  Traceback (most recent call last)",
      "\u001b[0;32m/var/folders/nm/nnyjm0h92jd6ggn_hpd_6d4w0000gn/T/ipykernel_15113/3928724440.py\u001b[0m in \u001b[0;36m<module>\u001b[0;34m\u001b[0m\n\u001b[1;32m      2\u001b[0m \u001b[0mattributeList\u001b[0m \u001b[0;34m=\u001b[0m \u001b[0;34m[\u001b[0m\u001b[0;34m'0'\u001b[0m\u001b[0;34m,\u001b[0m \u001b[0;34m'Chroma11'\u001b[0m\u001b[0;34m,\u001b[0m \u001b[0;34m'Chroma10'\u001b[0m\u001b[0;34m,\u001b[0m \u001b[0;34m'Chroma09'\u001b[0m\u001b[0;34m,\u001b[0m \u001b[0;34m'Chroma08'\u001b[0m\u001b[0;34m,\u001b[0m \u001b[0;34m'Chroma07'\u001b[0m\u001b[0;34m,\u001b[0m \u001b[0;34m'Chroma06'\u001b[0m\u001b[0;34m,\u001b[0m \u001b[0;34m'Chroma05'\u001b[0m\u001b[0;34m,\u001b[0m \u001b[0;34m'Chroma04'\u001b[0m\u001b[0;34m,\u001b[0m \u001b[0;34m'Chroma03'\u001b[0m\u001b[0;34m,\u001b[0m \u001b[0;34m'Chroma02'\u001b[0m\u001b[0;34m,\u001b[0m \u001b[0;34m'Chroma01'\u001b[0m\u001b[0;34m,\u001b[0m \u001b[0;34m'Chroma00'\u001b[0m\u001b[0;34m,\u001b[0m \u001b[0;34m'SpectralSlope'\u001b[0m\u001b[0;34m,\u001b[0m \u001b[0;34m'SpectralDecrease'\u001b[0m\u001b[0;34m,\u001b[0m \u001b[0;34m'SpectralVariation'\u001b[0m\u001b[0;34m,\u001b[0m \u001b[0;34m'SpectralRolloff'\u001b[0m\u001b[0;34m,\u001b[0m \u001b[0;34m'SpectralKurtosis'\u001b[0m\u001b[0;34m,\u001b[0m \u001b[0;34m'SpectralSkewness'\u001b[0m\u001b[0;34m,\u001b[0m \u001b[0;34m'SpectralSpread'\u001b[0m\u001b[0;34m,\u001b[0m \u001b[0;34m'SpectralCentroid'\u001b[0m\u001b[0;34m,\u001b[0m \u001b[0;34m'time'\u001b[0m\u001b[0;34m]\u001b[0m\u001b[0;34m\u001b[0m\u001b[0;34m\u001b[0m\u001b[0m\n\u001b[1;32m      3\u001b[0m \u001b[0mnp_arrays\u001b[0m \u001b[0;34m=\u001b[0m \u001b[0;34m{\u001b[0m\u001b[0mname\u001b[0m\u001b[0;34m:\u001b[0m\u001b[0mnp\u001b[0m\u001b[0;34m.\u001b[0m\u001b[0marray\u001b[0m\u001b[0;34m(\u001b[0m\u001b[0;34m\"1\"\u001b[0m\u001b[0;34m)\u001b[0m \u001b[0;32mfor\u001b[0m \u001b[0mname\u001b[0m \u001b[0;32min\u001b[0m \u001b[0mattributeList\u001b[0m\u001b[0;34m}\u001b[0m\u001b[0;34m\u001b[0m\u001b[0;34m\u001b[0m\u001b[0m\n\u001b[0;32m----> 4\u001b[0;31m \u001b[0mnp\u001b[0m\u001b[0;34m.\u001b[0m\u001b[0mappend\u001b[0m\u001b[0;34m(\u001b[0m\u001b[0mnp_arrays\u001b[0m\u001b[0;34m[\u001b[0m\u001b[0;36m0\u001b[0m\u001b[0;34m]\u001b[0m\u001b[0;34m,\u001b[0m\u001b[0;34m[\u001b[0m\u001b[0;36m1\u001b[0m\u001b[0;34m]\u001b[0m\u001b[0;34m)\u001b[0m\u001b[0;34m\u001b[0m\u001b[0;34m\u001b[0m\u001b[0m\n\u001b[0m\u001b[1;32m      5\u001b[0m \u001b[0mprint\u001b[0m\u001b[0;34m(\u001b[0m\u001b[0mnp_arrays\u001b[0m\u001b[0;34m[\u001b[0m\u001b[0;36m0\u001b[0m\u001b[0;34m]\u001b[0m\u001b[0;34m)\u001b[0m\u001b[0;34m\u001b[0m\u001b[0;34m\u001b[0m\u001b[0m\n",
      "\u001b[0;31mKeyError\u001b[0m: 0"
     ]
    }
   ],
   "source": [
    "import numpy as np\n",
    "attributeList = ['0', 'Chroma11', 'Chroma10', 'Chroma09', 'Chroma08', 'Chroma07', 'Chroma06', 'Chroma05', 'Chroma04', 'Chroma03', 'Chroma02', 'Chroma01', 'Chroma00', 'SpectralSlope', 'SpectralDecrease', 'SpectralVariation', 'SpectralRolloff', 'SpectralKurtosis', 'SpectralSkewness', 'SpectralSpread', 'SpectralCentroid', 'time']\n",
    "np_arrays = {name:np.array(\"1\") for name in attributeList}\n",
    "np.append(np_arrays[0],[1])\n",
    "print(np_arrays[0])"
   ]
  },
  {
   "cell_type": "code",
   "execution_count": 40,
   "metadata": {},
   "outputs": [
    {
     "name": "stdout",
     "output_type": "stream",
     "text": [
      "[5, 6]\n"
     ]
    }
   ],
   "source": [
    "l = []\n",
    "l.append(5)\n",
    "l.append(6)\n",
    "#l = []\n",
    "print(l)"
   ]
  },
  {
   "cell_type": "code",
   "execution_count": 45,
   "metadata": {},
   "outputs": [
    {
     "name": "stdout",
     "output_type": "stream",
     "text": [
      "[3]\n"
     ]
    }
   ],
   "source": [
    "import numpy as np\n",
    "dt = [1,2,3]\n",
    "print(np.array([dt[-1]]))"
   ]
  },
  {
   "cell_type": "code",
   "execution_count": 46,
   "metadata": {},
   "outputs": [
    {
     "name": "stdout",
     "output_type": "stream",
     "text": [
      "[[1.16330000e-02 1.14650112e-02 4.64741089e-05 ... 1.12533016e-04\n",
      "  2.26912652e-02 1.14650112e-02]\n",
      " [2.32200000e-02 9.78821842e-03 4.57718167e-05 ... 1.19975981e-04\n",
      "  2.10793974e-02 9.78821842e-03]\n",
      " [2.32200000e-02 1.08402922e-02 4.51964863e-05 ... 1.11308325e-04\n",
      "  2.39094488e-02 1.08402922e-02]\n",
      " ...\n",
      " [2.32200000e-02 7.69200052e-03 4.57169994e-05 ... 1.32492650e-04\n",
      "  1.91216227e-02 7.69200052e-03]\n",
      " [2.32200000e-02 8.07247170e-03 4.64807944e-05 ... 1.28409998e-04\n",
      "  1.77443235e-02 8.07247170e-03]\n",
      " [2.32200000e-02 7.88287274e-03 4.57621493e-05 ... 1.25126607e-04\n",
      "  1.78381823e-02 7.88287274e-03]]\n"
     ]
    }
   ],
   "source": [
    "# from __future__ import absolute_import\n",
    "# from __future__ import division\n",
    "# from __future__ import print_function\n",
    "import numpy as np\n",
    "import pandas as pd\n",
    "import os\n",
    "import argparse\n",
    "log_location = \"/Users/pooneh/imps/logs/\"\n",
    "log_file_ending = \"-\" + str(22) + \"d-mdrnn.log\"\n",
    "data_names = ['x'+str(i) for i in range(22-1)]\n",
    "column_names = ['date', 'source'] + data_names\n",
    "perf_df = pd.read_csv(log_location + \"2023-01-18T10-22-36-22d-mdrnn.log\",\n",
    "                        header=None, parse_dates=True,\n",
    "                        index_col=0, names=column_names)\n",
    "#  Filter out RNN lines, just keep 'interface'\n",
    "perf_df = perf_df[perf_df.source == 'interface']\n",
    "# print(\"line 30\",perf_df)\n",
    "#  Process times.\n",
    "perf_df['t'] = perf_df.index\n",
    "perf_df.t = perf_df.t.diff()\n",
    "perf_df.t = perf_df.t.dt.total_seconds()\n",
    "perf_df = perf_df.dropna()\n",
    "# print(\"line 36\",perf_df)\n",
    "# print(\"line 36\",perf_df.t)\n",
    "\n",
    "\n",
    "print(np.array(perf_df[['t']+data_names]))"
   ]
  },
  {
   "cell_type": "code",
   "execution_count": 23,
   "metadata": {},
   "outputs": [],
   "source": [
    "with open(\"/Users/pooneh/Documents/project/results-models-normnew-lr0.0005withDecay-SGD/result_allin_withInput.json\", \"r\") as read_file:\n",
    "    data = json.load(read_file)\n"
   ]
  },
  {
   "cell_type": "code",
   "execution_count": 24,
   "metadata": {},
   "outputs": [],
   "source": [
    "data[\"analysis\"].pop(\"harmonic\", None)\n",
    "data[\"analysis\"].pop(\"perceptual\", None)\n",
    "data[\"analysis\"].pop(\"signal\", None)\n",
    "data[\"analysis\"].pop(\"yin\", None)\n",
    "with open(\"/Users/pooneh/Documents/project/results-models-normnew-lr0.0005withDecay-SGD/result_onlySpectral_withInput.json\", \"w\") as write_file:\n",
    "  json.dump(data, write_file, indent=2)"
   ]
  },
  {
   "cell_type": "code",
   "execution_count": 59,
   "metadata": {},
   "outputs": [],
   "source": [
    "with open(\"/Users/pooneh/Documents/project/input_allin.json\", \"r\") as read_file:\n",
    "    data = json.load(read_file)\n",
    "data[\"analysis\"].pop(\"harmonic\", None)\n",
    "data[\"analysis\"].pop(\"perceptual\", None)\n",
    "data[\"analysis\"].pop(\"signal\", None)\n",
    "data[\"analysis\"].pop(\"yin\", None)\n",
    "with open(\"/Users/pooneh/Documents/project/input_onlyspectral.json\", \"w\") as write_file:\n",
    "  json.dump(data, write_file, indent=2)"
   ]
  },
  {
   "cell_type": "code",
   "execution_count": 53,
   "metadata": {},
   "outputs": [
    {
     "name": "stdout",
     "output_type": "stream",
     "text": [
      "19\n"
     ]
    }
   ],
   "source": [
    "n = 9\n",
    "print(n*2+1)"
   ]
  },
  {
   "cell_type": "code",
   "execution_count": null,
   "metadata": {},
   "outputs": [],
   "source": [
    "import matplotlib.pyplot as plt\n",
    "import numpy as np\n",
    "\n",
    "xpoints = np.array([1, 8])\n",
    "ypoints = np.array([3, 10])\n",
    "\n",
    "plt.plot(xpoints, ypoints, 'o')\n",
    "plt.show()"
   ]
  },
  {
   "cell_type": "code",
   "execution_count": 22,
   "metadata": {},
   "outputs": [
    {
     "name": "stdout",
     "output_type": "stream",
     "text": [
      "[4, 5, 6]\n"
     ]
    }
   ],
   "source": [
    "a=[1,2,3]\n",
    "b=[4,5,6]\n",
    "d=[9,8,7]\n",
    "c =[a,b]\n",
    "c[0] = d\n",
    "g=[1,2,3,4,5,6]\n",
    "\n",
    "\n",
    "j = g[0:len(a)]\n",
    "k=g[len(a):len(a)+len(b)]\n",
    "print(k)"
   ]
  }
 ],
 "metadata": {
  "kernelspec": {
   "display_name": "Python 3.7 (tensorflow)",
   "language": "python",
   "name": "tensorflow"
  },
  "language_info": {
   "codemirror_mode": {
    "name": "ipython",
    "version": 3
   },
   "file_extension": ".py",
   "mimetype": "text/x-python",
   "name": "python",
   "nbconvert_exporter": "python",
   "pygments_lexer": "ipython3",
   "version": "3.8.12"
  },
  "orig_nbformat": 4,
  "vscode": {
   "interpreter": {
    "hash": "d6e46eabc04cba1d02a67aaac190f352fd2bb475319bf0c7231f463464c78e70"
   }
  }
 },
 "nbformat": 4,
 "nbformat_minor": 2
}
